{
 "cells": [
  {
   "cell_type": "markdown",
   "metadata": {},
   "source": [
    "# My Jupyter Notebook on OBM Data Science Experience"
   ]
  },
  {
   "cell_type": "markdown",
   "metadata": {},
   "source": [
    "__Name: Mickael Gratia__  \n",
    "Occupation: Product Owner on a Digital Project"
   ]
  },
  {
   "cell_type": "markdown",
   "metadata": {},
   "source": [
    "*__Why am interested in data science??__   \n",
    "I actually discovered the data science world three months ago via the project I am currently working in. I have an IT background that I left about ten years ago to pursue a career in the industry. I see now the possibility to combine both my IT background and my knowledge of the industry via the Data Science. It makes things so much more interesting to have the possibility to \"play\" with data and to help the business to be more efficient*"
   ]
  },
  {
   "cell_type": "markdown",
   "metadata": {},
   "source": [
    "### The following code is assigning a text to a variable named \"str\" and printing it"
   ]
  },
  {
   "cell_type": "code",
   "execution_count": 5,
   "metadata": {},
   "outputs": [
    {
     "name": "stdout",
     "output_type": "stream",
     "text": [
      "Hello World!\n"
     ]
    }
   ],
   "source": [
    "str = \"Hello World!\"\n",
    "print(str)"
   ]
  },
  {
   "cell_type": "markdown",
   "metadata": {},
   "source": [
    "horizontal rule\n",
    "***\n",
    "Here is the bullet list in Markdown:  \n",
    "- Tomato\n",
    "- Eggs\n",
    "- Cheese  \n",
    "***\n",
    "  Now the same using a table:  \n",
    "***\n",
    "| Item | Description   \n",
    "| --- | ---  \n",
    "| 1 | Tomato \n",
    "| 2 | Eggs\n",
    "| 3 | Cheese\n",
    "\n",
    "Lets add an image:  \n",
    "\n",
    "<img src=\"https://www.wikimedia.org/static/images/project-logos/wikivoyage.png\" width =\"200\" height=200 >\n",
    "\n"
   ]
  },
  {
   "cell_type": "code",
   "execution_count": null,
   "metadata": {},
   "outputs": [],
   "source": []
  }
 ],
 "metadata": {
  "kernelspec": {
   "display_name": "Python",
   "language": "python",
   "name": "conda-env-python-py"
  },
  "language_info": {
   "codemirror_mode": {
    "name": "ipython",
    "version": 3
   },
   "file_extension": ".py",
   "mimetype": "text/x-python",
   "name": "python",
   "nbconvert_exporter": "python",
   "pygments_lexer": "ipython3",
   "version": "3.6.7"
  }
 },
 "nbformat": 4,
 "nbformat_minor": 4
}
